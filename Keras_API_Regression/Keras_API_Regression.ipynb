{
  "cells": [
    {
      "cell_type": "code",
      "execution_count": null,
      "metadata": {
        "id": "4Q2IGdIEwBfz"
      },
      "outputs": [],
      "source": [
        "# !pip install numpy==1.18.0"
      ]
    },
    {
      "cell_type": "code",
      "execution_count": null,
      "metadata": {
        "colab": {
          "base_uri": "https://localhost:8080/",
          "height": 35
        },
        "id": "vpbvZtRWwBf9",
        "outputId": "a354d8eb-5448-46ee-b535-d2e9326404eb"
      },
      "outputs": [
        {
          "output_type": "execute_result",
          "data": {
            "text/plain": [
              "'1.22.4'"
            ],
            "application/vnd.google.colaboratory.intrinsic+json": {
              "type": "string"
            }
          },
          "metadata": {},
          "execution_count": 4
        }
      ],
      "source": [
        "import numpy as np\n",
        "np.__version__"
      ]
    },
    {
      "cell_type": "code",
      "execution_count": null,
      "metadata": {
        "colab": {
          "base_uri": "https://localhost:8080/",
          "height": 175
        },
        "id": "RJrdKvDMwBf_",
        "outputId": "c45bec3a-b259-4fd3-e29a-5061d5cb3456"
      },
      "outputs": [
        {
          "output_type": "execute_result",
          "data": {
            "text/plain": [
              "         Date        Day  Temperature  Rainfall  Flyers  Price  Sales\n",
              "0  01/01/2017     Sunday         27.0      2.00      15    0.3     10\n",
              "1  02/01/2017     Monday         28.9      1.33      15    0.3     13\n",
              "2  03/01/2017    Tuesday         34.5      1.33      27    0.3     15\n",
              "3  04/01/2017  Wednesday         44.1      1.05      28    0.3     17"
            ],
            "text/html": [
              "\n",
              "  <div id=\"df-eafd35d8-5860-4a1c-8b54-38b0b84599e3\">\n",
              "    <div class=\"colab-df-container\">\n",
              "      <div>\n",
              "<style scoped>\n",
              "    .dataframe tbody tr th:only-of-type {\n",
              "        vertical-align: middle;\n",
              "    }\n",
              "\n",
              "    .dataframe tbody tr th {\n",
              "        vertical-align: top;\n",
              "    }\n",
              "\n",
              "    .dataframe thead th {\n",
              "        text-align: right;\n",
              "    }\n",
              "</style>\n",
              "<table border=\"1\" class=\"dataframe\">\n",
              "  <thead>\n",
              "    <tr style=\"text-align: right;\">\n",
              "      <th></th>\n",
              "      <th>Date</th>\n",
              "      <th>Day</th>\n",
              "      <th>Temperature</th>\n",
              "      <th>Rainfall</th>\n",
              "      <th>Flyers</th>\n",
              "      <th>Price</th>\n",
              "      <th>Sales</th>\n",
              "    </tr>\n",
              "  </thead>\n",
              "  <tbody>\n",
              "    <tr>\n",
              "      <th>0</th>\n",
              "      <td>01/01/2017</td>\n",
              "      <td>Sunday</td>\n",
              "      <td>27.0</td>\n",
              "      <td>2.00</td>\n",
              "      <td>15</td>\n",
              "      <td>0.3</td>\n",
              "      <td>10</td>\n",
              "    </tr>\n",
              "    <tr>\n",
              "      <th>1</th>\n",
              "      <td>02/01/2017</td>\n",
              "      <td>Monday</td>\n",
              "      <td>28.9</td>\n",
              "      <td>1.33</td>\n",
              "      <td>15</td>\n",
              "      <td>0.3</td>\n",
              "      <td>13</td>\n",
              "    </tr>\n",
              "    <tr>\n",
              "      <th>2</th>\n",
              "      <td>03/01/2017</td>\n",
              "      <td>Tuesday</td>\n",
              "      <td>34.5</td>\n",
              "      <td>1.33</td>\n",
              "      <td>27</td>\n",
              "      <td>0.3</td>\n",
              "      <td>15</td>\n",
              "    </tr>\n",
              "    <tr>\n",
              "      <th>3</th>\n",
              "      <td>04/01/2017</td>\n",
              "      <td>Wednesday</td>\n",
              "      <td>44.1</td>\n",
              "      <td>1.05</td>\n",
              "      <td>28</td>\n",
              "      <td>0.3</td>\n",
              "      <td>17</td>\n",
              "    </tr>\n",
              "  </tbody>\n",
              "</table>\n",
              "</div>\n",
              "      <button class=\"colab-df-convert\" onclick=\"convertToInteractive('df-eafd35d8-5860-4a1c-8b54-38b0b84599e3')\"\n",
              "              title=\"Convert this dataframe to an interactive table.\"\n",
              "              style=\"display:none;\">\n",
              "        \n",
              "  <svg xmlns=\"http://www.w3.org/2000/svg\" height=\"24px\"viewBox=\"0 0 24 24\"\n",
              "       width=\"24px\">\n",
              "    <path d=\"M0 0h24v24H0V0z\" fill=\"none\"/>\n",
              "    <path d=\"M18.56 5.44l.94 2.06.94-2.06 2.06-.94-2.06-.94-.94-2.06-.94 2.06-2.06.94zm-11 1L8.5 8.5l.94-2.06 2.06-.94-2.06-.94L8.5 2.5l-.94 2.06-2.06.94zm10 10l.94 2.06.94-2.06 2.06-.94-2.06-.94-.94-2.06-.94 2.06-2.06.94z\"/><path d=\"M17.41 7.96l-1.37-1.37c-.4-.4-.92-.59-1.43-.59-.52 0-1.04.2-1.43.59L10.3 9.45l-7.72 7.72c-.78.78-.78 2.05 0 2.83L4 21.41c.39.39.9.59 1.41.59.51 0 1.02-.2 1.41-.59l7.78-7.78 2.81-2.81c.8-.78.8-2.07 0-2.86zM5.41 20L4 18.59l7.72-7.72 1.47 1.35L5.41 20z\"/>\n",
              "  </svg>\n",
              "      </button>\n",
              "      \n",
              "  <style>\n",
              "    .colab-df-container {\n",
              "      display:flex;\n",
              "      flex-wrap:wrap;\n",
              "      gap: 12px;\n",
              "    }\n",
              "\n",
              "    .colab-df-convert {\n",
              "      background-color: #E8F0FE;\n",
              "      border: none;\n",
              "      border-radius: 50%;\n",
              "      cursor: pointer;\n",
              "      display: none;\n",
              "      fill: #1967D2;\n",
              "      height: 32px;\n",
              "      padding: 0 0 0 0;\n",
              "      width: 32px;\n",
              "    }\n",
              "\n",
              "    .colab-df-convert:hover {\n",
              "      background-color: #E2EBFA;\n",
              "      box-shadow: 0px 1px 2px rgba(60, 64, 67, 0.3), 0px 1px 3px 1px rgba(60, 64, 67, 0.15);\n",
              "      fill: #174EA6;\n",
              "    }\n",
              "\n",
              "    [theme=dark] .colab-df-convert {\n",
              "      background-color: #3B4455;\n",
              "      fill: #D2E3FC;\n",
              "    }\n",
              "\n",
              "    [theme=dark] .colab-df-convert:hover {\n",
              "      background-color: #434B5C;\n",
              "      box-shadow: 0px 1px 3px 1px rgba(0, 0, 0, 0.15);\n",
              "      filter: drop-shadow(0px 1px 2px rgba(0, 0, 0, 0.3));\n",
              "      fill: #FFFFFF;\n",
              "    }\n",
              "  </style>\n",
              "\n",
              "      <script>\n",
              "        const buttonEl =\n",
              "          document.querySelector('#df-eafd35d8-5860-4a1c-8b54-38b0b84599e3 button.colab-df-convert');\n",
              "        buttonEl.style.display =\n",
              "          google.colab.kernel.accessAllowed ? 'block' : 'none';\n",
              "\n",
              "        async function convertToInteractive(key) {\n",
              "          const element = document.querySelector('#df-eafd35d8-5860-4a1c-8b54-38b0b84599e3');\n",
              "          const dataTable =\n",
              "            await google.colab.kernel.invokeFunction('convertToInteractive',\n",
              "                                                     [key], {});\n",
              "          if (!dataTable) return;\n",
              "\n",
              "          const docLinkHtml = 'Like what you see? Visit the ' +\n",
              "            '<a target=\"_blank\" href=https://colab.research.google.com/notebooks/data_table.ipynb>data table notebook</a>'\n",
              "            + ' to learn more about interactive tables.';\n",
              "          element.innerHTML = '';\n",
              "          dataTable['output_type'] = 'display_data';\n",
              "          await google.colab.output.renderOutput(dataTable, element);\n",
              "          const docLink = document.createElement('div');\n",
              "          docLink.innerHTML = docLinkHtml;\n",
              "          element.appendChild(docLink);\n",
              "        }\n",
              "      </script>\n",
              "    </div>\n",
              "  </div>\n",
              "  "
            ]
          },
          "metadata": {},
          "execution_count": 5
        }
      ],
      "source": [
        "import pandas as pd\n",
        "data = pd.read_csv('Lemonade.csv')\n",
        "data[:4]"
      ]
    },
    {
      "cell_type": "code",
      "execution_count": null,
      "metadata": {
        "colab": {
          "base_uri": "https://localhost:8080/"
        },
        "id": "L2lNX34PwBgB",
        "outputId": "251be1fe-16c4-4ed8-d2e9-3d105c4b6374"
      },
      "outputs": [
        {
          "output_type": "execute_result",
          "data": {
            "text/plain": [
              "array([[ 0.  , 27.  ,  2.  , 15.  ],\n",
              "       [ 1.  , 28.9 ,  1.33, 15.  ],\n",
              "       [ 2.  , 34.5 ,  1.33, 27.  ]], dtype=float32)"
            ]
          },
          "metadata": {},
          "execution_count": 6
        }
      ],
      "source": [
        "X, y = data.iloc[:, 1:5].values, data.iloc[:, [-1]].values\n",
        "\n",
        "# 將星期幾轉換成數字\n",
        "days = {'Sunday': 0, 'Monday': 1, 'Tuesday': 2, 'Wednesday': 3, 'Thursday': 4, 'Friday': 5, 'Saturday': 6}\n",
        "X[:, 0] = [days[day] for day in X[:, 0]]\n",
        "X = X.astype('float32') # <--本來星期是文字\n",
        "\n",
        "X[:3]\n"
      ]
    },
    {
      "cell_type": "code",
      "source": [
        "# 標準化特徵值\n",
        "from sklearn.preprocessing import StandardScaler\n",
        "sc = StandardScaler()\n",
        "X = sc.fit_transform(X)"
      ],
      "metadata": {
        "id": "RSDp0eAeJDvI"
      },
      "execution_count": null,
      "outputs": []
    },
    {
      "cell_type": "code",
      "execution_count": null,
      "metadata": {
        "colab": {
          "base_uri": "https://localhost:8080/"
        },
        "id": "FJnHfMNcwBgC",
        "outputId": "c6dab863-5200-4d99-b85f-5003d5298110"
      },
      "outputs": [
        {
          "output_type": "execute_result",
          "data": {
            "text/plain": [
              "((292, 4), (73, 4), (292, 1), (73, 1))"
            ]
          },
          "metadata": {},
          "execution_count": 8
        }
      ],
      "source": [
        "# split data to train & test\n",
        "from sklearn.model_selection import train_test_split\n",
        "X_train, X_test, y_train, y_test = train_test_split(X, y, test_size=0.2, random_state=42)\n",
        "X_train.shape, X_test.shape, y_train.shape, y_test.shape\n"
      ]
    },
    {
      "cell_type": "code",
      "execution_count": null,
      "metadata": {
        "colab": {
          "base_uri": "https://localhost:8080/"
        },
        "id": "GKyFuT8swBgE",
        "outputId": "272555b4-771b-4099-9f8c-d4643397ac7c"
      },
      "outputs": [
        {
          "output_type": "stream",
          "name": "stdout",
          "text": [
            "Model: \"sequential\"\n",
            "_________________________________________________________________\n",
            " Layer (type)                Output Shape              Param #   \n",
            "=================================================================\n",
            " dense (Dense)               (None, 128)               640       \n",
            "                                                                 \n",
            " dense_1 (Dense)             (None, 64)                8256      \n",
            "                                                                 \n",
            " dense_2 (Dense)             (None, 32)                2080      \n",
            "                                                                 \n",
            " dense_3 (Dense)             (None, 16)                528       \n",
            "                                                                 \n",
            " dense_4 (Dense)             (None, 1)                 17        \n",
            "                                                                 \n",
            "=================================================================\n",
            "Total params: 11,521\n",
            "Trainable params: 11,521\n",
            "Non-trainable params: 0\n",
            "_________________________________________________________________\n"
          ]
        }
      ],
      "source": [
        "# INPUT --> DENSE --> OUTPUT\n",
        "from keras.models import Sequential # 預先匯入一個MODEL 框架\n",
        "from keras.layers import Dense\n",
        "model = Sequential()\n",
        "model.add( Dense(128, activation='relu', input_shape=(4,) ) ) # 將圖片 4, --> 128(神經元)輸出\n",
        "model.add( Dense(64, activation='relu' ) ) # \n",
        "model.add( Dense(32, activation='relu' ) ) # \n",
        "model.add( Dense(16, activation='relu' ) ) # \n",
        "model.add( Dense(1)    ) # 直接輸出數字就可以 無須啟動(softmax)函數 去判斷 yes|no\n",
        "model.summary()"
      ]
    },
    {
      "cell_type": "code",
      "execution_count": null,
      "metadata": {
        "id": "53U210B-wBgG"
      },
      "outputs": [],
      "source": [
        "# 編譯模型 指定使用甚麼優化器 計算偏差 Loss 量測精準度\n",
        "# https://keras.io/api/losses/regression_losses/\n",
        "model.compile(optimizer='adam', loss='mse')\n",
        "# MeanSquaredLogarithmicError"
      ]
    },
    {
      "cell_type": "code",
      "execution_count": null,
      "metadata": {
        "colab": {
          "base_uri": "https://localhost:8080/"
        },
        "id": "ro6PRbeLwBgI",
        "outputId": "bb2dbc7b-f925-4502-f6e5-e2c1ad149a89"
      },
      "outputs": [
        {
          "output_type": "stream",
          "name": "stdout",
          "text": [
            "Epoch 1/100\n",
            "30/30 - 8s - loss: 688.1055 - val_loss: 544.7776 - 8s/epoch - 280ms/step\n",
            "Epoch 2/100\n",
            "30/30 - 0s - loss: 492.0409 - val_loss: 196.5392 - 131ms/epoch - 4ms/step\n",
            "Epoch 3/100\n",
            "30/30 - 0s - loss: 88.4600 - val_loss: 53.3454 - 132ms/epoch - 4ms/step\n",
            "Epoch 4/100\n",
            "30/30 - 0s - loss: 35.0938 - val_loss: 29.5548 - 136ms/epoch - 5ms/step\n",
            "Epoch 5/100\n",
            "30/30 - 0s - loss: 18.2658 - val_loss: 17.8139 - 131ms/epoch - 4ms/step\n",
            "Epoch 6/100\n",
            "30/30 - 0s - loss: 11.5529 - val_loss: 12.3390 - 125ms/epoch - 4ms/step\n",
            "Epoch 7/100\n",
            "30/30 - 0s - loss: 8.2617 - val_loss: 9.5916 - 132ms/epoch - 4ms/step\n",
            "Epoch 8/100\n",
            "30/30 - 0s - loss: 7.0671 - val_loss: 7.0826 - 134ms/epoch - 4ms/step\n",
            "Epoch 9/100\n",
            "30/30 - 0s - loss: 4.9192 - val_loss: 5.3008 - 138ms/epoch - 5ms/step\n",
            "Epoch 10/100\n",
            "30/30 - 0s - loss: 3.8512 - val_loss: 4.2355 - 120ms/epoch - 4ms/step\n",
            "Epoch 11/100\n",
            "30/30 - 0s - loss: 3.2067 - val_loss: 3.3088 - 140ms/epoch - 5ms/step\n",
            "Epoch 12/100\n",
            "30/30 - 0s - loss: 2.7531 - val_loss: 3.4137 - 135ms/epoch - 4ms/step\n",
            "Epoch 13/100\n",
            "30/30 - 0s - loss: 2.4870 - val_loss: 2.5374 - 128ms/epoch - 4ms/step\n",
            "Epoch 14/100\n",
            "30/30 - 0s - loss: 2.3272 - val_loss: 2.4880 - 134ms/epoch - 4ms/step\n",
            "Epoch 15/100\n",
            "30/30 - 0s - loss: 1.9894 - val_loss: 2.0042 - 132ms/epoch - 4ms/step\n",
            "Epoch 16/100\n",
            "30/30 - 0s - loss: 1.8038 - val_loss: 1.7860 - 135ms/epoch - 4ms/step\n",
            "Epoch 17/100\n",
            "30/30 - 0s - loss: 1.5947 - val_loss: 1.9182 - 141ms/epoch - 5ms/step\n",
            "Epoch 18/100\n",
            "30/30 - 0s - loss: 1.4598 - val_loss: 1.5495 - 159ms/epoch - 5ms/step\n",
            "Epoch 19/100\n",
            "30/30 - 0s - loss: 1.3862 - val_loss: 1.5250 - 123ms/epoch - 4ms/step\n",
            "Epoch 20/100\n",
            "30/30 - 0s - loss: 1.3453 - val_loss: 1.4323 - 131ms/epoch - 4ms/step\n",
            "Epoch 21/100\n",
            "30/30 - 0s - loss: 1.2712 - val_loss: 1.4098 - 132ms/epoch - 4ms/step\n",
            "Epoch 22/100\n",
            "30/30 - 0s - loss: 1.1378 - val_loss: 1.3351 - 143ms/epoch - 5ms/step\n",
            "Epoch 23/100\n",
            "30/30 - 0s - loss: 1.1369 - val_loss: 1.2091 - 133ms/epoch - 4ms/step\n",
            "Epoch 24/100\n",
            "30/30 - 0s - loss: 1.0501 - val_loss: 1.2201 - 135ms/epoch - 5ms/step\n",
            "Epoch 25/100\n",
            "30/30 - 0s - loss: 0.9997 - val_loss: 1.0802 - 127ms/epoch - 4ms/step\n",
            "Epoch 26/100\n",
            "30/30 - 0s - loss: 0.9018 - val_loss: 1.0916 - 148ms/epoch - 5ms/step\n",
            "Epoch 27/100\n",
            "30/30 - 0s - loss: 0.8544 - val_loss: 1.0845 - 136ms/epoch - 5ms/step\n",
            "Epoch 28/100\n",
            "30/30 - 0s - loss: 0.8279 - val_loss: 1.0246 - 132ms/epoch - 4ms/step\n",
            "Epoch 29/100\n",
            "30/30 - 0s - loss: 0.8033 - val_loss: 0.9232 - 139ms/epoch - 5ms/step\n",
            "Epoch 30/100\n",
            "30/30 - 0s - loss: 0.7810 - val_loss: 0.9092 - 139ms/epoch - 5ms/step\n",
            "Epoch 31/100\n",
            "30/30 - 0s - loss: 0.7664 - val_loss: 0.9715 - 140ms/epoch - 5ms/step\n",
            "Epoch 32/100\n",
            "30/30 - 0s - loss: 0.7238 - val_loss: 0.8880 - 152ms/epoch - 5ms/step\n",
            "Epoch 33/100\n",
            "30/30 - 0s - loss: 0.6942 - val_loss: 0.8101 - 136ms/epoch - 5ms/step\n",
            "Epoch 34/100\n",
            "30/30 - 0s - loss: 0.7445 - val_loss: 0.9199 - 132ms/epoch - 4ms/step\n",
            "Epoch 35/100\n",
            "30/30 - 0s - loss: 0.7090 - val_loss: 0.8867 - 125ms/epoch - 4ms/step\n",
            "Epoch 36/100\n",
            "30/30 - 0s - loss: 0.7111 - val_loss: 0.7171 - 119ms/epoch - 4ms/step\n",
            "Epoch 37/100\n",
            "30/30 - 0s - loss: 0.6084 - val_loss: 0.7415 - 133ms/epoch - 4ms/step\n",
            "Epoch 38/100\n",
            "30/30 - 0s - loss: 0.6685 - val_loss: 0.7634 - 139ms/epoch - 5ms/step\n",
            "Epoch 39/100\n",
            "30/30 - 0s - loss: 0.6071 - val_loss: 0.7255 - 134ms/epoch - 4ms/step\n",
            "Epoch 40/100\n",
            "30/30 - 0s - loss: 0.5965 - val_loss: 0.7094 - 134ms/epoch - 4ms/step\n",
            "Epoch 41/100\n",
            "30/30 - 0s - loss: 0.6214 - val_loss: 0.6580 - 127ms/epoch - 4ms/step\n",
            "Epoch 42/100\n",
            "30/30 - 0s - loss: 0.6675 - val_loss: 0.6338 - 120ms/epoch - 4ms/step\n",
            "Epoch 43/100\n",
            "30/30 - 0s - loss: 0.5807 - val_loss: 0.7104 - 146ms/epoch - 5ms/step\n",
            "Epoch 44/100\n",
            "30/30 - 0s - loss: 0.5996 - val_loss: 0.7449 - 129ms/epoch - 4ms/step\n",
            "Epoch 45/100\n",
            "30/30 - 0s - loss: 0.5315 - val_loss: 0.6066 - 230ms/epoch - 8ms/step\n",
            "Epoch 46/100\n",
            "30/30 - 0s - loss: 0.5187 - val_loss: 0.6789 - 200ms/epoch - 7ms/step\n",
            "Epoch 47/100\n",
            "30/30 - 0s - loss: 0.6379 - val_loss: 0.7637 - 190ms/epoch - 6ms/step\n",
            "Epoch 48/100\n",
            "30/30 - 0s - loss: 0.5353 - val_loss: 0.6053 - 226ms/epoch - 8ms/step\n",
            "Epoch 49/100\n",
            "30/30 - 0s - loss: 0.6023 - val_loss: 0.8673 - 213ms/epoch - 7ms/step\n",
            "Epoch 50/100\n",
            "30/30 - 0s - loss: 0.5725 - val_loss: 0.7672 - 240ms/epoch - 8ms/step\n",
            "Epoch 51/100\n",
            "30/30 - 0s - loss: 0.5600 - val_loss: 0.6822 - 199ms/epoch - 7ms/step\n",
            "Epoch 52/100\n",
            "30/30 - 0s - loss: 0.6623 - val_loss: 0.6958 - 188ms/epoch - 6ms/step\n",
            "Epoch 53/100\n",
            "30/30 - 0s - loss: 0.4894 - val_loss: 0.5694 - 196ms/epoch - 7ms/step\n",
            "Epoch 54/100\n",
            "30/30 - 0s - loss: 0.4943 - val_loss: 0.5325 - 236ms/epoch - 8ms/step\n",
            "Epoch 55/100\n",
            "30/30 - 0s - loss: 0.4966 - val_loss: 0.5364 - 237ms/epoch - 8ms/step\n",
            "Epoch 56/100\n",
            "30/30 - 0s - loss: 0.5310 - val_loss: 0.5922 - 162ms/epoch - 5ms/step\n",
            "Epoch 57/100\n",
            "30/30 - 0s - loss: 0.5051 - val_loss: 0.5294 - 130ms/epoch - 4ms/step\n",
            "Epoch 58/100\n",
            "30/30 - 0s - loss: 0.4835 - val_loss: 0.5813 - 133ms/epoch - 4ms/step\n",
            "Epoch 59/100\n",
            "30/30 - 0s - loss: 0.4821 - val_loss: 0.6163 - 133ms/epoch - 4ms/step\n",
            "Epoch 60/100\n",
            "30/30 - 0s - loss: 0.5361 - val_loss: 0.6194 - 141ms/epoch - 5ms/step\n",
            "Epoch 61/100\n",
            "30/30 - 0s - loss: 0.5276 - val_loss: 0.4980 - 122ms/epoch - 4ms/step\n",
            "Epoch 62/100\n",
            "30/30 - 0s - loss: 0.5127 - val_loss: 0.5105 - 131ms/epoch - 4ms/step\n",
            "Epoch 63/100\n",
            "30/30 - 0s - loss: 0.4692 - val_loss: 0.5604 - 137ms/epoch - 5ms/step\n",
            "Epoch 64/100\n",
            "30/30 - 0s - loss: 0.4872 - val_loss: 0.5203 - 139ms/epoch - 5ms/step\n",
            "Epoch 65/100\n",
            "30/30 - 0s - loss: 0.4698 - val_loss: 0.5455 - 120ms/epoch - 4ms/step\n",
            "Epoch 66/100\n",
            "30/30 - 0s - loss: 0.5201 - val_loss: 0.5809 - 137ms/epoch - 5ms/step\n",
            "Epoch 67/100\n",
            "30/30 - 0s - loss: 0.4967 - val_loss: 0.5026 - 133ms/epoch - 4ms/step\n",
            "Epoch 68/100\n",
            "30/30 - 0s - loss: 0.4344 - val_loss: 0.5527 - 144ms/epoch - 5ms/step\n",
            "Epoch 69/100\n",
            "30/30 - 0s - loss: 0.5714 - val_loss: 0.6449 - 129ms/epoch - 4ms/step\n",
            "Epoch 70/100\n",
            "30/30 - 0s - loss: 0.6098 - val_loss: 0.5233 - 138ms/epoch - 5ms/step\n",
            "Epoch 71/100\n",
            "30/30 - 0s - loss: 0.4846 - val_loss: 0.4816 - 144ms/epoch - 5ms/step\n",
            "Epoch 72/100\n",
            "30/30 - 0s - loss: 0.5527 - val_loss: 0.5576 - 123ms/epoch - 4ms/step\n",
            "Epoch 73/100\n",
            "30/30 - 0s - loss: 0.5164 - val_loss: 0.6206 - 139ms/epoch - 5ms/step\n",
            "Epoch 74/100\n",
            "30/30 - 0s - loss: 0.4604 - val_loss: 0.4725 - 134ms/epoch - 4ms/step\n",
            "Epoch 75/100\n",
            "30/30 - 0s - loss: 0.4519 - val_loss: 0.5169 - 135ms/epoch - 4ms/step\n",
            "Epoch 76/100\n",
            "30/30 - 0s - loss: 0.4710 - val_loss: 0.6374 - 127ms/epoch - 4ms/step\n",
            "Epoch 77/100\n",
            "30/30 - 0s - loss: 0.4423 - val_loss: 0.4899 - 129ms/epoch - 4ms/step\n",
            "Epoch 78/100\n",
            "30/30 - 0s - loss: 0.4452 - val_loss: 0.5569 - 143ms/epoch - 5ms/step\n",
            "Epoch 79/100\n",
            "30/30 - 0s - loss: 0.4451 - val_loss: 0.5371 - 141ms/epoch - 5ms/step\n",
            "Epoch 80/100\n",
            "30/30 - 0s - loss: 0.4640 - val_loss: 0.5755 - 154ms/epoch - 5ms/step\n",
            "Epoch 81/100\n",
            "30/30 - 0s - loss: 0.5266 - val_loss: 0.6180 - 139ms/epoch - 5ms/step\n",
            "Epoch 82/100\n",
            "30/30 - 0s - loss: 0.4773 - val_loss: 0.4940 - 201ms/epoch - 7ms/step\n",
            "Epoch 83/100\n",
            "30/30 - 0s - loss: 0.5099 - val_loss: 0.4594 - 262ms/epoch - 9ms/step\n",
            "Epoch 84/100\n",
            "30/30 - 0s - loss: 0.4847 - val_loss: 0.4716 - 284ms/epoch - 9ms/step\n",
            "Epoch 85/100\n",
            "30/30 - 0s - loss: 0.4394 - val_loss: 0.7064 - 156ms/epoch - 5ms/step\n",
            "Epoch 86/100\n",
            "30/30 - 0s - loss: 0.4799 - val_loss: 0.5001 - 134ms/epoch - 4ms/step\n",
            "Epoch 87/100\n",
            "30/30 - 0s - loss: 0.4183 - val_loss: 0.4398 - 151ms/epoch - 5ms/step\n",
            "Epoch 88/100\n",
            "30/30 - 0s - loss: 0.4647 - val_loss: 0.5594 - 192ms/epoch - 6ms/step\n",
            "Epoch 89/100\n",
            "30/30 - 0s - loss: 0.4233 - val_loss: 0.6837 - 316ms/epoch - 11ms/step\n",
            "Epoch 90/100\n",
            "30/30 - 0s - loss: 0.6406 - val_loss: 0.6856 - 318ms/epoch - 11ms/step\n",
            "Epoch 91/100\n",
            "30/30 - 0s - loss: 0.5361 - val_loss: 0.5370 - 132ms/epoch - 4ms/step\n",
            "Epoch 92/100\n",
            "30/30 - 0s - loss: 0.4582 - val_loss: 0.5027 - 136ms/epoch - 5ms/step\n",
            "Epoch 93/100\n",
            "30/30 - 0s - loss: 0.5040 - val_loss: 0.5145 - 134ms/epoch - 4ms/step\n",
            "Epoch 94/100\n",
            "30/30 - 0s - loss: 0.4795 - val_loss: 0.4769 - 293ms/epoch - 10ms/step\n",
            "Epoch 95/100\n",
            "30/30 - 0s - loss: 0.5195 - val_loss: 0.4752 - 328ms/epoch - 11ms/step\n",
            "Epoch 96/100\n",
            "30/30 - 0s - loss: 0.4081 - val_loss: 0.4619 - 134ms/epoch - 4ms/step\n",
            "Epoch 97/100\n",
            "30/30 - 0s - loss: 0.3998 - val_loss: 0.4900 - 130ms/epoch - 4ms/step\n",
            "Epoch 98/100\n",
            "30/30 - 0s - loss: 0.4791 - val_loss: 0.5695 - 128ms/epoch - 4ms/step\n",
            "Epoch 99/100\n",
            "30/30 - 0s - loss: 0.5923 - val_loss: 0.5430 - 148ms/epoch - 5ms/step\n",
            "Epoch 100/100\n",
            "30/30 - 0s - loss: 0.4485 - val_loss: 0.4530 - 132ms/epoch - 4ms/step\n"
          ]
        }
      ],
      "source": [
        "train_history =model.fit(X_train, y_train,\n",
        "                            batch_size=10,\n",
        "                            epochs=100,\n",
        "                            verbose=2, # 顯示過程\n",
        "                            validation_data=[X_test, y_test])"
      ]
    },
    {
      "cell_type": "code",
      "execution_count": null,
      "metadata": {
        "colab": {
          "base_uri": "https://localhost:8080/"
        },
        "id": "KUbGXfn_xbdI",
        "outputId": "a1a7a4f5-75f1-4eb7-f823-8a5285edc563"
      },
      "outputs": [
        {
          "output_type": "execute_result",
          "data": {
            "text/plain": [
              "dict_keys(['loss', 'val_loss'])"
            ]
          },
          "metadata": {},
          "execution_count": 12
        }
      ],
      "source": [
        "train_history.history.keys()"
      ]
    },
    {
      "cell_type": "code",
      "execution_count": null,
      "metadata": {
        "colab": {
          "base_uri": "https://localhost:8080/",
          "height": 430
        },
        "id": "I87cTmx_xgnJ",
        "outputId": "dcb3db7e-ddc6-415e-da44-b2b26fd27fc2"
      },
      "outputs": [
        {
          "output_type": "display_data",
          "data": {
            "text/plain": [
              "<Figure size 640x480 with 1 Axes>"
            ],
            "image/png": "[encoded data removed]"
          },
          "metadata": {}
        }
      ],
      "source": [
        "%matplotlib inline\n",
        "# loss chart\n",
        "import matplotlib.pyplot as plt\n",
        "plt.plot(train_history.history['loss'], color='red')\n",
        "plt.plot(train_history.history['val_loss'], color='blue')\n",
        "plt.grid()\n",
        "plt.show()"
      ]
    },
    {
      "cell_type": "code",
      "execution_count": null,
      "metadata": {
        "colab": {
          "base_uri": "https://localhost:8080/"
        },
        "id": "0Yu11-5pwBgN",
        "outputId": "af6ca419-8376-4e71-ef84-4ada7f2f72e8"
      },
      "outputs": [
        {
          "output_type": "stream",
          "name": "stdout",
          "text": [
            "3/3 [==============================] - 0s 4ms/step\n",
            "10/10 [==============================] - 0s 2ms/step\n"
          ]
        },
        {
          "output_type": "execute_result",
          "data": {
            "text/plain": [
              "(0.4530016126773885, 0.41303327075374224)"
            ]
          },
          "metadata": {},
          "execution_count": 14
        }
      ],
      "source": [
        "import numpy as np\n",
        "np.average((model.predict(X_test) - y_test)**2), np.average((model.predict(X_train) - y_train)**2)"
      ]
    },
    {
      "cell_type": "code",
      "execution_count": null,
      "metadata": {
        "colab": {
          "base_uri": "https://localhost:8080/",
          "height": 447
        },
        "id": "2BTyt8v-xvyN",
        "outputId": "9acc5804-52f3-40ca-edbb-4e328bf5c2cc"
      },
      "outputs": [
        {
          "output_type": "stream",
          "name": "stdout",
          "text": [
            "12/12 [==============================] - 0s 2ms/step\n"
          ]
        },
        {
          "output_type": "display_data",
          "data": {
            "text/plain": [
              "<Figure size 640x480 with 1 Axes>"
            ],
            "image/png": "[encoded data removed]"
          },
          "metadata": {}
        }
      ],
      "source": [
        "# residuals plot\n",
        "y_pred = model.predict(X)\n",
        "resi = (y - y_pred)\n",
        "\n",
        "import matplotlib.pyplot as plt\n",
        "plt.hist(resi, bins=12, edgecolor='red')\n",
        "plt.show()"
      ]
    },
    {
      "cell_type": "code",
      "execution_count": null,
      "metadata": {
        "colab": {
          "base_uri": "https://localhost:8080/",
          "height": 293
        },
        "id": "Cx2Yhlp7x5hR",
        "outputId": "1f34b0c8-782a-49aa-8074-61816d38721a"
      },
      "outputs": [
        {
          "output_type": "display_data",
          "data": {
            "text/plain": [
              "<Figure size 1200x300 with 1 Axes>"
            ],
            "image/png": "[encoded data removed]"
          },
          "metadata": {}
        }
      ],
      "source": [
        "import matplotlib.pyplot as plt\n",
        "plt.figure(figsize=(12,3))\n",
        "plt.scatter(range(len(resi)), resi, marker='d')\n",
        "plt.grid()\n",
        "plt.show()"
      ]
    },
    {
      "cell_type": "code",
      "execution_count": null,
      "metadata": {
        "colab": {
          "base_uri": "https://localhost:8080/"
        },
        "id": "A2v_ubSDyGP1",
        "outputId": "017f12c7-dd8f-41ed-f553-c7dd9c68dd5f"
      },
      "outputs": [
        {
          "output_type": "execute_result",
          "data": {
            "text/plain": [
              "(0.4210269416985321, 0.6488658888387739)"
            ]
          },
          "metadata": {},
          "execution_count": 17
        }
      ],
      "source": [
        "# mse\n",
        "# rmse\n",
        "import numpy as np\n",
        "np.average(resi ** 2), np.sqrt(np.mean(resi ** 2))"
      ]
    }
  ],
  "metadata": {
    "accelerator": "GPU",
    "colab": {
      "provenance": []
    },
    "gpuClass": "standard",
    "kernelspec": {
      "display_name": "Python 3 (ipykernel)",
      "language": "python",
      "name": "python3"
    },
    "language_info": {
      "codemirror_mode": {
        "name": "ipython",
        "version": 3
      },
      "file_extension": ".py",
      "mimetype": "text/x-python",
      "name": "python",
      "nbconvert_exporter": "python",
      "pygments_lexer": "ipython3",
      "version": "3.9.13"
    }
  },
  "nbformat": 4,
  "nbformat_minor": 0
}