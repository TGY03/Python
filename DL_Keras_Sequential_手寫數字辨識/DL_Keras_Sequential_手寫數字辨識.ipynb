{
  "cells": [
    {
      "cell_type": "code",
      "source": [
        "# 這邊是 64 = 8*8\n",
        "# mnist 是 784 = 28 * 28 \n",
        "from sklearn import datasets\n",
        "import matplotlib.pyplot as plt\n",
        "\n",
        "digits = datasets.load_digits()\n",
        "print(digits.keys())\n",
        "X, y = digits['data'], digits['target']\n",
        "print('MinMax', min(X.flatten()), max(X.flatten()))\n",
        "print(X.shape, y.shape)\n",
        "# ---- display digit ----- ##\n",
        "for i in range(10):\n",
        "    plt.figure(figsize=(0.6, 0.6))\n",
        "    plt.title(y[i])\n",
        "    plt.imshow( X[i].reshape(8, 8), cmap='gray_r' )\n",
        "    plt.axis('off')\n",
        "    plt.show()\n",
        "#---------------------------#"
      ],
      "metadata": {
        "colab": {
          "base_uri": "https://localhost:8080/",
          "height": 701
        },
        "id": "SiQfYHW-Ldx5",
        "outputId": "6d875830-ff3b-4a0d-ffba-617ef418c182"
      },
      "id": "SiQfYHW-Ldx5",
      "execution_count": null,
      "outputs": [
        {
          "output_type": "stream",
          "name": "stdout",
          "text": [
            "dict_keys(['data', 'target', 'frame', 'feature_names', 'target_names', 'images', 'DESCR'])\n",
            "MinMax 0.0 16.0\n",
            "(1797, 64) (1797,)\n"
          ]
        },
        {
          "output_type": "display_data",
          "data": {
            "text/plain": [
              "<Figure size 43.2x43.2 with 1 Axes>"
            ],
            "image/png": "[encoded data removed]"
          },
          "metadata": {
            "needs_background": "light"
          }
        },
        {
          "output_type": "display_data",
          "data": {
            "text/plain": [
              "<Figure size 43.2x43.2 with 1 Axes>"
            ],
            "image/png": "[encoded data removed]"
          },
          "metadata": {
            "needs_background": "light"
          }
        },
        {
          "output_type": "display_data",
          "data": {
            "text/plain": [
              "<Figure size 43.2x43.2 with 1 Axes>"
            ],
            "image/png": "[encoded data removed]"
          },
          "metadata": {
            "needs_background": "light"
          }
        },
        {
          "output_type": "display_data",
          "data": {
            "text/plain": [
              "<Figure size 43.2x43.2 with 1 Axes>"
            ],
            "image/png": "[encoded data removed]"
          },
          "metadata": {
            "needs_background": "light"
          }
        },
        {
          "output_type": "display_data",
          "data": {
            "text/plain": [
              "<Figure size 43.2x43.2 with 1 Axes>"
            ],
            "image/png": "[encoded data removed]"
          },
          "metadata": {
            "needs_background": "light"
          }
        },
        {
          "output_type": "display_data",
          "data": {
            "text/plain": [
              "<Figure size 43.2x43.2 with 1 Axes>"
            ],
            "image/png": "[encoded data removed]"
          },
          "metadata": {
            "needs_background": "light"
          }
        },
        {
          "output_type": "display_data",
          "data": {
            "text/plain": [
              "<Figure size 43.2x43.2 with 1 Axes>"
            ],
            "image/png": "[encoded data removed]"
          },
          "metadata": {
            "needs_background": "light"
          }
        },
        {
          "output_type": "display_data",
          "data": {
            "text/plain": [
              "<Figure size 43.2x43.2 with 1 Axes>"
            ],
            "image/png": "[encoded data removed]"
          },
          "metadata": {
            "needs_background": "light"
          }
        },
        {
          "output_type": "display_data",
          "data": {
            "text/plain": [
              "<Figure size 43.2x43.2 with 1 Axes>"
            ],
            "image/png": "[encoded data removed]"
          },
          "metadata": {
            "needs_background": "light"
          }
        },
        {
          "output_type": "display_data",
          "data": {
            "text/plain": [
              "<Figure size 43.2x43.2 with 1 Axes>"
            ],
            "image/png": "[encoded data removed]"
          },
          "metadata": {
            "needs_background": "light"
          }
        }
      ]
    },
    {
      "cell_type": "code",
      "execution_count": null,
      "id": "located-cheat",
      "metadata": {
        "id": "located-cheat"
      },
      "outputs": [],
      "source": [
        "# 導入函式庫\n",
        "import numpy as np  \n",
        "import keras"
      ]
    },
    {
      "cell_type": "code",
      "execution_count": null,
      "id": "worth-departure",
      "metadata": {
        "id": "worth-departure",
        "colab": {
          "base_uri": "https://localhost:8080/"
        },
        "outputId": "ab7dc03c-b0d1-4b6a-f713-ed4732a80d38"
      },
      "outputs": [
        {
          "output_type": "execute_result",
          "data": {
            "text/plain": [
              "(((1437, 8, 8), (1437,)), ((360, 8, 8), (360,)))"
            ]
          },
          "metadata": {},
          "execution_count": 74
        }
      ],
      "source": [
        "# 導入函式庫\n",
        "import numpy as np  \n",
        "import keras\n",
        "# from keras.models import Sequential\n",
        "from keras.datasets import mnist\n",
        "from keras.layers import Dense, Dropout, Activation, Flatten\n",
        "from keras.utils import np_utils  # 用來後續將 label 標籤轉為 one-hot-encoding  \n",
        "from matplotlib import pyplot as plt\n",
        "import os\n",
        "from datetime import datetime\n",
        "from  sklearn.model_selection import train_test_split\n",
        "start=datetime.now()\n",
        "\n",
        "# 載入 MNIST 資料庫的訓練資料，自動分訓練集及測試集\n",
        "#(X_train, y_train), (X_test, y_test) = mnist.load_data(os.path.join(os.getcwd(), 'datasets/mnist.npz'))\n",
        "# (X_train, y_train), (X_test, y_test) = mnist.load_data() \n",
        "X_train, X_test, y_train, y_test = train_test_split(X.reshape(1797, 8, 8), y, test_size=0.2, random_state=42)\n",
        "# 使用sklearn train test split分出訓練集測試集   \n",
        "(X_train.shape, y_train.shape), (X_test.shape, y_test.shape)\n"
      ]
    },
    {
      "cell_type": "code",
      "source": [
        "%matplotlib inline\n",
        "import matplotlib.pyplot as plt\n",
        "for i in range(5):    \n",
        "    plt.figure(figsize=(0.8 , 0.8))\n",
        "    plt.imshow(X_train[i], cmap='gray_r')\n",
        "    plt.axis('off')\n",
        "    plt.show()"
      ],
      "metadata": {
        "colab": {
          "base_uri": "https://localhost:8080/",
          "height": 302
        },
        "id": "q3_SICP6HPi4",
        "outputId": "189710ee-c796-43a2-b090-a5475c6fe3b6"
      },
      "id": "q3_SICP6HPi4",
      "execution_count": null,
      "outputs": [
        {
          "output_type": "display_data",
          "data": {
            "text/plain": [
              "<Figure size 57.6x57.6 with 1 Axes>"
            ],
            "image/png": "[encoded data removed]"
          },
          "metadata": {
            "needs_background": "light"
          }
        },
        {
          "output_type": "display_data",
          "data": {
            "text/plain": [
              "<Figure size 57.6x57.6 with 1 Axes>"
            ],
            "image/png": "[encoded data removed]"
          },
          "metadata": {
            "needs_background": "light"
          }
        },
        {
          "output_type": "display_data",
          "data": {
            "text/plain": [
              "<Figure size 57.6x57.6 with 1 Axes>"
            ],
            "image/png": "[encoded data removed]"
          },
          "metadata": {
            "needs_background": "light"
          }
        },
        {
          "output_type": "display_data",
          "data": {
            "text/plain": [
              "<Figure size 57.6x57.6 with 1 Axes>"
            ],
            "image/png": "[encoded data removed]"
          },
          "metadata": {
            "needs_background": "light"
          }
        },
        {
          "output_type": "display_data",
          "data": {
            "text/plain": [
              "<Figure size 57.6x57.6 with 1 Axes>"
            ],
            "image/png": "[encoded data removed]"
          },
          "metadata": {
            "needs_background": "light"
          }
        }
      ]
    },
    {
      "cell_type": "code",
      "source": [
        "# 建立簡單的線性執行模型\n",
        "model = keras.models.Sequential()\n",
        "# Add Input layer, 隱藏層(hidden layer) 有 256 個輸出變數\n",
        "model.add(Dense(units=64, input_dim=64, kernel_initializer='normal', activation='relu')) \n",
        "\n",
        "model.add(Dense(units=48, kernel_initializer='normal', activation='relu')) \n",
        "\n",
        "model.add(Dense(units=32, kernel_initializer='normal', activation='relu')) \n",
        "\n",
        "# Add output layer\n",
        "model.add(Dense(units=10, kernel_initializer='normal', activation='softmax'))\n",
        "\n",
        "# 編譯: 選擇損失函數、優化方法及成效衡量方式\n",
        "model.compile(loss='categorical_crossentropy', optimizer='adam', metrics=['accuracy']) \n"
      ],
      "metadata": {
        "id": "viWDiouNG-yx"
      },
      "id": "viWDiouNG-yx",
      "execution_count": null,
      "outputs": []
    },
    {
      "cell_type": "code",
      "source": [
        "model.summary()"
      ],
      "metadata": {
        "colab": {
          "base_uri": "https://localhost:8080/"
        },
        "id": "6R7D6FTaJ0aF",
        "outputId": "90f4405a-a2d3-47c8-a9aa-90335ef8e1f7"
      },
      "id": "6R7D6FTaJ0aF",
      "execution_count": null,
      "outputs": [
        {
          "output_type": "stream",
          "name": "stdout",
          "text": [
            "Model: \"sequential_2\"\n",
            "_________________________________________________________________\n",
            " Layer (type)                Output Shape              Param #   \n",
            "=================================================================\n",
            " dense_8 (Dense)             (None, 64)                4160      \n",
            "                                                                 \n",
            " dense_9 (Dense)             (None, 48)                3120      \n",
            "                                                                 \n",
            " dense_10 (Dense)            (None, 32)                1568      \n",
            "                                                                 \n",
            " dense_11 (Dense)            (None, 10)                330       \n",
            "                                                                 \n",
            "=================================================================\n",
            "Total params: 9,178\n",
            "Trainable params: 9,178\n",
            "Non-trainable params: 0\n",
            "_________________________________________________________________\n"
          ]
        }
      ]
    },
    {
      "cell_type": "code",
      "source": [
        "y_test[:3],\\\n",
        "np_utils.to_categorical(y_test)[:3]"
      ],
      "metadata": {
        "colab": {
          "base_uri": "https://localhost:8080/"
        },
        "id": "d8eNGy2tOifW",
        "outputId": "2410375e-60dc-42e1-d516-502ea9fd2f5a"
      },
      "id": "d8eNGy2tOifW",
      "execution_count": null,
      "outputs": [
        {
          "output_type": "execute_result",
          "data": {
            "text/plain": [
              "(array([6, 9, 3]), array([[0., 0., 0., 0., 0., 0., 1., 0., 0., 0.],\n",
              "        [0., 0., 0., 0., 0., 0., 0., 0., 0., 1.],\n",
              "        [0., 0., 0., 1., 0., 0., 0., 0., 0., 0.]], dtype=float32))"
            ]
          },
          "metadata": {},
          "execution_count": 78
        }
      ]
    },
    {
      "cell_type": "code",
      "source": [
        "# 將 training 的 label 進行 one-hot encoding，例如數字 7 經過 One-hot encoding 轉換後是 0000001000，即第7個值為 1\n",
        "y_TrainOneHot = np_utils.to_categorical(y_train) \n",
        "y_TestOneHot = np_utils.to_categorical(y_test) \n",
        "\n",
        "\n",
        "# 將 training 的 input 資料轉為2維\n",
        "X_train_2D = X_train.reshape(1437, 8*8).astype('float32')  \n",
        "X_test_2D = X_test.reshape(360, 8*8).astype('float32')    \n",
        "\n",
        "x_Train_norm = X_train_2D/16  # 標準化就是0-1之間數字 \n",
        "x_Test_norm = X_test_2D/16   \n",
        "\n",
        "# 進行訓練, 訓練過程會存在 train_history 變數中 callback\n",
        "train_history = model.fit(x=x_Train_norm, y=y_TrainOneHot, \n",
        "                          validation_split=0.2, \n",
        "                          epochs=10, \n",
        "                          batch_size=8, \n",
        "                          verbose=1\n",
        "                          )  \n"
      ],
      "metadata": {
        "id": "yG3ItyJ_J_hf",
        "colab": {
          "base_uri": "https://localhost:8080/"
        },
        "outputId": "a5ad4cd9-b444-4b33-cf70-4091ce660604"
      },
      "id": "yG3ItyJ_J_hf",
      "execution_count": null,
      "outputs": [
        {
          "output_type": "stream",
          "name": "stdout",
          "text": [
            "Epoch 1/10\n",
            "144/144 [==============================] - 1s 4ms/step - loss: 2.0173 - accuracy: 0.3368 - val_loss: 1.1679 - val_accuracy: 0.6181\n",
            "Epoch 2/10\n",
            "144/144 [==============================] - 0s 2ms/step - loss: 0.8114 - accuracy: 0.7267 - val_loss: 0.6649 - val_accuracy: 0.7708\n",
            "Epoch 3/10\n",
            "144/144 [==============================] - 0s 3ms/step - loss: 0.5458 - accuracy: 0.7903 - val_loss: 0.5746 - val_accuracy: 0.8021\n",
            "Epoch 4/10\n",
            "144/144 [==============================] - 0s 2ms/step - loss: 0.4614 - accuracy: 0.8329 - val_loss: 0.4994 - val_accuracy: 0.7917\n",
            "Epoch 5/10\n",
            "144/144 [==============================] - 0s 3ms/step - loss: 0.3938 - accuracy: 0.8573 - val_loss: 0.4882 - val_accuracy: 0.8229\n",
            "Epoch 6/10\n",
            "144/144 [==============================] - 0s 3ms/step - loss: 0.3338 - accuracy: 0.8790 - val_loss: 0.4488 - val_accuracy: 0.8507\n",
            "Epoch 7/10\n",
            "144/144 [==============================] - 0s 3ms/step - loss: 0.2801 - accuracy: 0.9034 - val_loss: 0.3415 - val_accuracy: 0.8889\n",
            "Epoch 8/10\n",
            "144/144 [==============================] - 0s 3ms/step - loss: 0.2436 - accuracy: 0.9199 - val_loss: 0.3040 - val_accuracy: 0.9097\n",
            "Epoch 9/10\n",
            "144/144 [==============================] - 0s 2ms/step - loss: 0.2173 - accuracy: 0.9312 - val_loss: 0.2955 - val_accuracy: 0.9201\n",
            "Epoch 10/10\n",
            "144/144 [==============================] - 0s 2ms/step - loss: 0.1799 - accuracy: 0.9417 - val_loss: 0.2722 - val_accuracy: 0.9167\n"
          ]
        }
      ]
    },
    {
      "cell_type": "code",
      "source": [
        "train_history.history.keys() # callback"
      ],
      "metadata": {
        "colab": {
          "base_uri": "https://localhost:8080/"
        },
        "id": "DxTvPlkMPcYs",
        "outputId": "b1ee027b-2dea-46e8-8706-bdf8a4e5280f"
      },
      "id": "DxTvPlkMPcYs",
      "execution_count": null,
      "outputs": [
        {
          "output_type": "execute_result",
          "data": {
            "text/plain": [
              "dict_keys(['loss', 'accuracy', 'val_loss', 'val_accuracy'])"
            ]
          },
          "metadata": {},
          "execution_count": 80
        }
      ]
    },
    {
      "cell_type": "code",
      "source": [
        "%matplotlib inline\n",
        "# accuracy chart\n",
        "import matplotlib.pyplot as plt\n",
        "plt.plot(train_history.history['accuracy'], color='red')\n",
        "plt.plot(train_history.history['val_accuracy'], color='blue')\n",
        "plt.grid()\n",
        "plt.show()"
      ],
      "metadata": {
        "id": "eonprGSDPs7e",
        "colab": {
          "base_uri": "https://localhost:8080/",
          "height": 265
        },
        "outputId": "db533585-93c9-4b32-ea42-753f2c568fc6"
      },
      "id": "eonprGSDPs7e",
      "execution_count": null,
      "outputs": [
        {
          "output_type": "display_data",
          "data": {
            "text/plain": [
              "<Figure size 432x288 with 1 Axes>"
            ],
            "image/png": "[encoded data removed]"
          },
          "metadata": {
            "needs_background": "light"
          }
        }
      ]
    },
    {
      "cell_type": "code",
      "source": [
        "%matplotlib inline\n",
        "# loss chart\n",
        "import matplotlib.pyplot as plt\n",
        "plt.plot(train_history.history['loss'], color='red')\n",
        "plt.plot(train_history.history['val_loss'], color='blue')\n",
        "plt.grid()\n",
        "plt.show()"
      ],
      "metadata": {
        "id": "j_PEoNBHQEud",
        "colab": {
          "base_uri": "https://localhost:8080/",
          "height": 265
        },
        "outputId": "5294ba3d-e4ac-45f6-bf66-85aa9397b5b1"
      },
      "id": "j_PEoNBHQEud",
      "execution_count": null,
      "outputs": [
        {
          "output_type": "display_data",
          "data": {
            "text/plain": [
              "<Figure size 432x288 with 1 Axes>"
            ],
            "image/png": "[encoded data removed]"
          },
          "metadata": {
            "needs_background": "light"
          }
        }
      ]
    },
    {
      "cell_type": "code",
      "execution_count": null,
      "id": "driven-defense",
      "metadata": {
        "id": "driven-defense",
        "colab": {
          "base_uri": "https://localhost:8080/"
        },
        "outputId": "2d1919d2-4bb0-48e8-940e-027fb5d2f0bf"
      },
      "outputs": [
        {
          "output_type": "stream",
          "name": "stdout",
          "text": [
            "12/12 [==============================] - 0s 2ms/step - loss: 0.3273 - accuracy: 0.9111\n",
            "\t[Info] Accuracy of testing data = 91.1%\n",
            "45/45 [==============================] - 0s 2ms/step - loss: 0.1852 - accuracy: 0.9415\n",
            "\t[Info] Accuracy of training data = 94.2%\n"
          ]
        }
      ],
      "source": [
        "# 顯示訓練成果(分數)\n",
        "scores = model.evaluate(x_Test_norm, y_TestOneHot)  \n",
        "print(\"\\t[Info] Accuracy of testing data = {:2.1f}%\".format(scores[1]*100.0))  \n",
        "scores = model.evaluate(x_Train_norm, y_TrainOneHot)  \n",
        "print(\"\\t[Info] Accuracy of training data = {:2.1f}%\".format(scores[1]*100.0))  \n"
      ]
    },
    {
      "cell_type": "code",
      "execution_count": null,
      "id": "least-prairie",
      "metadata": {
        "id": "least-prairie",
        "colab": {
          "base_uri": "https://localhost:8080/"
        },
        "outputId": "91e8ebfa-390e-4782-ba00-3f3fc5fbe043"
      },
      "outputs": [
        {
          "output_type": "stream",
          "name": "stdout",
          "text": [
            "12/12 [==============================] - 0s 2ms/step\n",
            "12/12 [==============================] - 0s 2ms/step\n"
          ]
        },
        {
          "output_type": "execute_result",
          "data": {
            "text/plain": [
              "array([[1.0782886e-04, 2.4193081e-03, 7.0421589e-07, 3.7248380e-09,\n",
              "        1.7508595e-03, 8.4006714e-08, 9.8646885e-01, 3.4427508e-09,\n",
              "        9.2490315e-03, 3.1946990e-06],\n",
              "       [1.6633106e-05, 1.8174447e-08, 2.2096297e-10, 6.5843994e-04,\n",
              "        5.4749240e-08, 5.3484839e-01, 5.2603642e-12, 9.5127725e-06,\n",
              "        5.3742604e-04, 4.6392959e-01],\n",
              "       [4.2658321e-11, 8.8409752e-07, 1.9118786e-03, 9.9646747e-01,\n",
              "        6.9192474e-10, 2.2481795e-04, 3.5519237e-12, 4.6860864e-06,\n",
              "        4.7015751e-04, 9.2010899e-04]], dtype=float32)"
            ]
          },
          "metadata": {},
          "execution_count": 84
        }
      ],
      "source": [
        "# 預測(prediction)\n",
        "X = x_Test_norm\n",
        "predictions = np.argmax(model.predict(X), axis=1) # np.argmax 找出最佳的數字softmax\n",
        "model.predict(X)[:3]"
      ]
    },
    {
      "cell_type": "code",
      "source": [
        "# get prediction result\n",
        "print('prediction:', predictions[0:20])\n",
        "print('actual    :', y_test[0:20])"
      ],
      "metadata": {
        "id": "7-0-_nsAQgkQ",
        "colab": {
          "base_uri": "https://localhost:8080/"
        },
        "outputId": "b75874ee-b6ee-4064-c2e4-a0b58251831a"
      },
      "id": "7-0-_nsAQgkQ",
      "execution_count": null,
      "outputs": [
        {
          "output_type": "stream",
          "name": "stdout",
          "text": [
            "prediction: [6 5 3 7 2 1 5 2 5 3 2 4 4 0 4 2 3 7 8 8]\n",
            "actual    : [6 9 3 7 2 1 5 2 5 2 1 9 4 0 4 2 3 7 8 8]\n"
          ]
        }
      ]
    },
    {
      "cell_type": "code",
      "execution_count": null,
      "id": "adopted-degree",
      "metadata": {
        "id": "adopted-degree"
      },
      "outputs": [],
      "source": [
        "# # 模型結構存檔\n",
        "# from keras.models import model_from_json\n",
        "# json_string = model.to_json()\n",
        "# with open(\"model.config\", \"w\") as text_file:\n",
        "#     text_file.write(json_string)\n",
        "\n",
        "    \n",
        "# # 模型訓練結果存檔\n",
        "# model.save_weights(\"model.weight\")"
      ]
    },
    {
      "cell_type": "code",
      "source": [
        "# 繪製\n",
        "from sklearn.metrics import confusion_matrix\n",
        "confmat = confusion_matrix(y_true=y_test, y_pred=predictions)\n",
        "\n",
        "# draw confusion_matrix\n",
        "import matplotlib.pyplot as plt\n",
        "fig, ax = plt.subplots(figsize=(6, 6))\n",
        "ax.matshow(confmat, cmap=plt.cm.Blues, alpha=0.3)\n",
        "for i in range(confmat.shape[0]):\n",
        "    for j in range(confmat.shape[1]):\n",
        "        ax.text(x=j, y=i, s=confmat[i, j], va='center', ha='center')\n",
        "\n",
        "plt.xlabel('Predicted label')\n",
        "plt.ylabel('True label')\n",
        "\n",
        "plt.tight_layout()\n",
        "#plt.savefig('images/06_09.png', dpi=300)\n",
        "plt.show()"
      ],
      "metadata": {
        "id": "JiW5mPD9REnx",
        "colab": {
          "base_uri": "https://localhost:8080/",
          "height": 441
        },
        "outputId": "2dee1117-f60a-422b-b2f7-8c837f801501"
      },
      "id": "JiW5mPD9REnx",
      "execution_count": null,
      "outputs": [
        {
          "output_type": "display_data",
          "data": {
            "text/plain": [
              "<Figure size 432x432 with 1 Axes>"
            ],
            "image/png": "[encoded data removed]"
          },
          "metadata": {
            "needs_background": "light"
          }
        }
      ]
    }
  ],
  "metadata": {
    "kernelspec": {
      "display_name": "Python 3",
      "language": "python",
      "name": "python3"
    },
    "language_info": {
      "codemirror_mode": {
        "name": "ipython",
        "version": 3
      },
      "file_extension": ".py",
      "mimetype": "text/x-python",
      "name": "python",
      "nbconvert_exporter": "python",
      "pygments_lexer": "ipython3",
      "version": "3.8.8"
    },
    "colab": {
      "provenance": []
    }
  },
  "nbformat": 4,
  "nbformat_minor": 5
}